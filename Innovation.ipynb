{
 "cells": [
  {
   "cell_type": "code",
   "execution_count": 1,
   "id": "2a9525d5",
   "metadata": {},
   "outputs": [
    {
     "name": "stdout",
     "output_type": "stream",
     "text": [
      "Collecting sentence-transformers\n",
      "  Downloading sentence-transformers-2.2.2.tar.gz (85 kB)\n",
      "     ---------------------------------------- 86.0/86.0 kB 1.6 MB/s eta 0:00:00\n",
      "  Preparing metadata (setup.py): started\n",
      "  Preparing metadata (setup.py): finished with status 'done'\n",
      "Collecting transformers<5.0.0,>=4.6.0\n",
      "  Downloading transformers-4.22.1-py3-none-any.whl (4.9 MB)\n",
      "     ---------------------------------------- 4.9/4.9 MB 12.4 MB/s eta 0:00:00\n",
      "Collecting tqdm\n",
      "  Downloading tqdm-4.64.1-py2.py3-none-any.whl (78 kB)\n",
      "     ---------------------------------------- 78.5/78.5 kB 2.2 MB/s eta 0:00:00\n",
      "Collecting torch>=1.6.0\n",
      "  Downloading torch-1.12.1-cp310-cp310-win_amd64.whl (162.2 MB)\n",
      "     -------------------------------------- 162.2/162.2 MB 3.9 MB/s eta 0:00:00\n",
      "Collecting torchvision\n",
      "  Downloading torchvision-0.13.1-cp310-cp310-win_amd64.whl (1.1 MB)\n",
      "     ---------------------------------------- 1.1/1.1 MB 9.7 MB/s eta 0:00:00\n",
      "Collecting numpy\n",
      "  Downloading numpy-1.23.3-cp310-cp310-win_amd64.whl (14.6 MB)\n",
      "     --------------------------------------- 14.6/14.6 MB 17.7 MB/s eta 0:00:00\n",
      "Collecting scikit-learn\n",
      "  Downloading scikit_learn-1.1.2-cp310-cp310-win_amd64.whl (7.4 MB)\n",
      "     ---------------------------------------- 7.4/7.4 MB 16.8 MB/s eta 0:00:00\n",
      "Collecting scipy\n",
      "  Downloading scipy-1.9.1-cp310-cp310-win_amd64.whl (38.6 MB)\n",
      "     ---------------------------------------- 38.6/38.6 MB 8.0 MB/s eta 0:00:00\n",
      "Collecting nltk\n",
      "  Downloading nltk-3.7-py3-none-any.whl (1.5 MB)\n",
      "     ---------------------------------------- 1.5/1.5 MB 7.3 MB/s eta 0:00:00\n",
      "Collecting sentencepiece\n",
      "  Downloading sentencepiece-0.1.97-cp310-cp310-win_amd64.whl (1.1 MB)\n",
      "     ---------------------------------------- 1.1/1.1 MB 10.3 MB/s eta 0:00:00\n",
      "Collecting huggingface-hub>=0.4.0\n",
      "  Downloading huggingface_hub-0.9.1-py3-none-any.whl (120 kB)\n",
      "     -------------------------------------- 120.7/120.7 kB 3.6 MB/s eta 0:00:00\n",
      "Collecting typing-extensions>=3.7.4.3\n",
      "  Downloading typing_extensions-4.3.0-py3-none-any.whl (25 kB)\n",
      "Collecting requests\n",
      "  Downloading requests-2.28.1-py3-none-any.whl (62 kB)\n",
      "     -------------------------------------- 62.8/62.8 kB 279.8 kB/s eta 0:00:00\n",
      "Collecting filelock\n",
      "  Downloading filelock-3.8.0-py3-none-any.whl (10 kB)\n",
      "Collecting pyyaml>=5.1\n",
      "  Downloading PyYAML-6.0-cp310-cp310-win_amd64.whl (151 kB)\n",
      "     -------------------------------------- 151.7/151.7 kB 4.6 MB/s eta 0:00:00\n",
      "Requirement already satisfied: packaging>=20.9 in c:\\users\\administrator\\appdata\\roaming\\python\\python310\\site-packages (from huggingface-hub>=0.4.0->sentence-transformers) (21.3)\n",
      "Collecting tokenizers!=0.11.3,<0.13,>=0.11.1\n",
      "  Downloading tokenizers-0.12.1-cp310-cp310-win_amd64.whl (3.3 MB)\n",
      "     ---------------------------------------- 3.3/3.3 MB 5.2 MB/s eta 0:00:00\n",
      "Collecting regex!=2019.12.17\n",
      "  Downloading regex-2022.9.13-cp310-cp310-win_amd64.whl (267 kB)\n",
      "     -------------------------------------- 267.7/267.7 kB 5.5 MB/s eta 0:00:00\n",
      "Requirement already satisfied: colorama in c:\\users\\administrator\\appdata\\roaming\\python\\python310\\site-packages (from tqdm->sentence-transformers) (0.4.5)\n",
      "Collecting joblib\n",
      "  Downloading joblib-1.2.0-py3-none-any.whl (297 kB)\n",
      "     -------------------------------------- 298.0/298.0 kB 6.1 MB/s eta 0:00:00\n",
      "Collecting click\n",
      "  Downloading click-8.1.3-py3-none-any.whl (96 kB)\n",
      "     ---------------------------------------- 96.6/96.6 kB 1.8 MB/s eta 0:00:00\n",
      "Collecting threadpoolctl>=2.0.0\n",
      "  Downloading threadpoolctl-3.1.0-py3-none-any.whl (14 kB)\n",
      "Collecting pillow!=8.3.*,>=5.3.0\n",
      "  Downloading Pillow-9.2.0-cp310-cp310-win_amd64.whl (3.3 MB)\n",
      "     ---------------------------------------- 3.3/3.3 MB 14.0 MB/s eta 0:00:00\n",
      "Requirement already satisfied: pyparsing!=3.0.5,>=2.0.2 in c:\\users\\administrator\\appdata\\roaming\\python\\python310\\site-packages (from packaging>=20.9->huggingface-hub>=0.4.0->sentence-transformers) (3.0.9)\n",
      "Collecting idna<4,>=2.5\n",
      "  Downloading idna-3.4-py3-none-any.whl (61 kB)\n",
      "     ---------------------------------------- 61.5/61.5 kB 1.1 MB/s eta 0:00:00\n",
      "Collecting urllib3<1.27,>=1.21.1\n",
      "  Downloading urllib3-1.26.12-py2.py3-none-any.whl (140 kB)\n",
      "     -------------------------------------- 140.4/140.4 kB 4.1 MB/s eta 0:00:00\n",
      "Collecting certifi>=2017.4.17\n",
      "  Downloading certifi-2022.9.24-py3-none-any.whl (161 kB)\n",
      "     -------------------------------------- 161.1/161.1 kB 4.7 MB/s eta 0:00:00\n",
      "Collecting charset-normalizer<3,>=2\n",
      "  Downloading charset_normalizer-2.1.1-py3-none-any.whl (39 kB)\n",
      "Using legacy 'setup.py install' for sentence-transformers, since package 'wheel' is not installed.\n",
      "Installing collected packages: tokenizers, sentencepiece, urllib3, typing-extensions, tqdm, threadpoolctl, regex, pyyaml, pillow, numpy, joblib, idna, filelock, click, charset-normalizer, certifi, torch, scipy, requests, nltk, torchvision, scikit-learn, huggingface-hub, transformers, sentence-transformers\n",
      "  Running setup.py install for sentence-transformers: started\n",
      "  Running setup.py install for sentence-transformers: finished with status 'done'\n",
      "Successfully installed certifi-2022.9.24 charset-normalizer-2.1.1 click-8.1.3 filelock-3.8.0 huggingface-hub-0.9.1 idna-3.4 joblib-1.2.0 nltk-3.7 numpy-1.23.3 pillow-9.2.0 pyyaml-6.0 regex-2022.9.13 requests-2.28.1 scikit-learn-1.1.2 scipy-1.9.1 sentence-transformers-2.2.2 sentencepiece-0.1.97 threadpoolctl-3.1.0 tokenizers-0.12.1 torch-1.12.1 torchvision-0.13.1 tqdm-4.64.1 transformers-4.22.1 typing-extensions-4.3.0 urllib3-1.26.12\n",
      "Note: you may need to restart the kernel to use updated packages.\n"
     ]
    },
    {
     "name": "stderr",
     "output_type": "stream",
     "text": [
      "  WARNING: The script tqdm.exe is installed in 'c:\\Users\\Administrator\\AppData\\Local\\Programs\\Python\\Python310\\Scripts' which is not on PATH.\n",
      "  Consider adding this directory to PATH or, if you prefer to suppress this warning, use --no-warn-script-location.\n",
      "  WARNING: The script f2py.exe is installed in 'c:\\Users\\Administrator\\AppData\\Local\\Programs\\Python\\Python310\\Scripts' which is not on PATH.\n",
      "  Consider adding this directory to PATH or, if you prefer to suppress this warning, use --no-warn-script-location.\n",
      "  WARNING: The script normalizer.exe is installed in 'c:\\Users\\Administrator\\AppData\\Local\\Programs\\Python\\Python310\\Scripts' which is not on PATH.\n",
      "  Consider adding this directory to PATH or, if you prefer to suppress this warning, use --no-warn-script-location.\n",
      "  WARNING: The scripts convert-caffe2-to-onnx.exe, convert-onnx-to-caffe2.exe and torchrun.exe are installed in 'c:\\Users\\Administrator\\AppData\\Local\\Programs\\Python\\Python310\\Scripts' which is not on PATH.\n",
      "  Consider adding this directory to PATH or, if you prefer to suppress this warning, use --no-warn-script-location.\n",
      "  WARNING: The script nltk.exe is installed in 'c:\\Users\\Administrator\\AppData\\Local\\Programs\\Python\\Python310\\Scripts' which is not on PATH.\n",
      "  Consider adding this directory to PATH or, if you prefer to suppress this warning, use --no-warn-script-location.\n",
      "  WARNING: The script huggingface-cli.exe is installed in 'c:\\Users\\Administrator\\AppData\\Local\\Programs\\Python\\Python310\\Scripts' which is not on PATH.\n",
      "  Consider adding this directory to PATH or, if you prefer to suppress this warning, use --no-warn-script-location.\n",
      "  WARNING: The script transformers-cli.exe is installed in 'c:\\Users\\Administrator\\AppData\\Local\\Programs\\Python\\Python310\\Scripts' which is not on PATH.\n",
      "  Consider adding this directory to PATH or, if you prefer to suppress this warning, use --no-warn-script-location.\n"
     ]
    }
   ],
   "source": [
    "%pip install -U sentence-transformers"
   ]
  },
  {
   "cell_type": "code",
   "execution_count": 3,
   "id": "a3312785",
   "metadata": {},
   "outputs": [
    {
     "name": "stdout",
     "output_type": "stream",
     "text": [
      "Requirement already satisfied: pandas in c:\\users\\nic\\appdata\\local\\programs\\python\\python310\\lib\\site-packages (1.4.4)\n",
      "Requirement already satisfied: numpy>=1.21.0 in c:\\users\\nic\\appdata\\local\\programs\\python\\python310\\lib\\site-packages (from pandas) (1.23.3)\n",
      "Requirement already satisfied: python-dateutil>=2.8.1 in c:\\users\\nic\\appdata\\local\\programs\\python\\python310\\lib\\site-packages (from pandas) (2.8.2)\n",
      "Requirement already satisfied: pytz>=2020.1 in c:\\users\\nic\\appdata\\local\\programs\\python\\python310\\lib\\site-packages (from pandas) (2022.2.1)\n",
      "Requirement already satisfied: six>=1.5 in c:\\users\\nic\\appdata\\local\\programs\\python\\python310\\lib\\site-packages (from python-dateutil>=2.8.1->pandas) (1.16.0)\n",
      "Note: you may need to restart the kernel to use updated packages.\n"
     ]
    }
   ],
   "source": [
    "%pip install pandas"
   ]
  },
  {
   "cell_type": "code",
   "execution_count": 4,
   "id": "11d4468d",
   "metadata": {},
   "outputs": [
    {
     "name": "stdout",
     "output_type": "stream",
     "text": [
      "Requirement already satisfied: openpyxl in c:\\users\\nic\\appdata\\local\\programs\\python\\python310\\lib\\site-packages (3.0.10)\n",
      "Requirement already satisfied: et-xmlfile in c:\\users\\nic\\appdata\\local\\programs\\python\\python310\\lib\\site-packages (from openpyxl) (1.1.0)\n",
      "Note: you may need to restart the kernel to use updated packages.\n"
     ]
    }
   ],
   "source": [
    "%pip install openpyxl"
   ]
  },
  {
   "cell_type": "code",
   "execution_count": 5,
   "id": "55a89791",
   "metadata": {},
   "outputs": [
    {
     "name": "stdout",
     "output_type": "stream",
     "text": [
      "Requirement already satisfied: fastapi in c:\\users\\nic\\appdata\\local\\programs\\python\\python310\\lib\\site-packages (0.85.0)\n",
      "Requirement already satisfied: pydantic!=1.7,!=1.7.1,!=1.7.2,!=1.7.3,!=1.8,!=1.8.1,<2.0.0,>=1.6.2 in c:\\users\\nic\\appdata\\local\\programs\\python\\python310\\lib\\site-packages (from fastapi) (1.9.2)\n",
      "Requirement already satisfied: starlette==0.20.4 in c:\\users\\nic\\appdata\\local\\programs\\python\\python310\\lib\\site-packages (from fastapi) (0.20.4)\n",
      "Requirement already satisfied: anyio<5,>=3.4.0 in c:\\users\\nic\\appdata\\local\\programs\\python\\python310\\lib\\site-packages (from starlette==0.20.4->fastapi) (3.6.1)\n",
      "Requirement already satisfied: typing-extensions>=3.7.4.3 in c:\\users\\nic\\appdata\\local\\programs\\python\\python310\\lib\\site-packages (from pydantic!=1.7,!=1.7.1,!=1.7.2,!=1.7.3,!=1.8,!=1.8.1,<2.0.0,>=1.6.2->fastapi) (4.3.0)\n",
      "Requirement already satisfied: idna>=2.8 in c:\\users\\nic\\appdata\\local\\programs\\python\\python310\\lib\\site-packages (from anyio<5,>=3.4.0->starlette==0.20.4->fastapi) (3.3)\n",
      "Requirement already satisfied: sniffio>=1.1 in c:\\users\\nic\\appdata\\local\\programs\\python\\python310\\lib\\site-packages (from anyio<5,>=3.4.0->starlette==0.20.4->fastapi) (1.3.0)\n",
      "Note: you may need to restart the kernel to use updated packages.\n"
     ]
    }
   ],
   "source": [
    "%pip install fastapi"
   ]
  },
  {
   "cell_type": "code",
   "execution_count": 7,
   "id": "1f3ee9ed",
   "metadata": {},
   "outputs": [
    {
     "name": "stderr",
     "output_type": "stream",
     "text": [
      "c:\\Users\\NIC\\AppData\\Local\\Programs\\Python\\Python310\\lib\\site-packages\\tqdm\\auto.py:22: TqdmWarning: IProgress not found. Please update jupyter and ipywidgets. See https://ipywidgets.readthedocs.io/en/stable/user_install.html\n",
      "  from .autonotebook import tqdm as notebook_tqdm\n"
     ]
    }
   ],
   "source": [
    "import os\n",
    "import pandas as pd\n",
    "from sklearn.metrics.pairwise import cosine_similarity\n",
    "from sentence_transformers import SentenceTransformer\n",
    "from fastapi import FastAPI"
   ]
  },
  {
   "cell_type": "code",
   "execution_count": 7,
   "id": "42e4f0c5",
   "metadata": {},
   "outputs": [],
   "source": [
    "df = pd.read_csv('Approved_Ideas.csv', encoding= 'unicode_escape')"
   ]
  },
  {
   "cell_type": "code",
   "execution_count": 8,
   "id": "9b5b6e65",
   "metadata": {},
   "outputs": [],
   "source": [
    "mode = df['Briefly provide the market data for the potential idea/ innovation']"
   ]
  },
  {
   "cell_type": "code",
   "execution_count": 9,
   "id": "4cad8cb2",
   "metadata": {},
   "outputs": [],
   "source": [
    "model = SentenceTransformer('paraphrase-albert-small-v2')"
   ]
  },
  {
   "cell_type": "code",
   "execution_count": 10,
   "id": "24abbaa3",
   "metadata": {},
   "outputs": [],
   "source": [
    "data = df['Briefly provide the market data for the potential idea/ innovation'].head(10).to_list()"
   ]
  },
  {
   "cell_type": "code",
   "execution_count": 11,
   "id": "80b9234f",
   "metadata": {},
   "outputs": [],
   "source": [
    "data = ['India is my country','Hello Woeld','Example','who are you']"
   ]
  },
  {
   "cell_type": "code",
   "execution_count": 22,
   "id": "2fe435c8",
   "metadata": {},
   "outputs": [
    {
     "ename": "NameError",
     "evalue": "name 'data' is not defined",
     "output_type": "error",
     "traceback": [
      "\u001b[1;31m---------------------------------------------------------------------------\u001b[0m",
      "\u001b[1;31mNameError\u001b[0m                                 Traceback (most recent call last)",
      "\u001b[1;32mc:\\Users\\NIC\\Desktop\\Innovation\\Innovation.ipynb Cell 11\u001b[0m in \u001b[0;36m<cell line: 2>\u001b[1;34m()\u001b[0m\n\u001b[0;32m      <a href='vscode-notebook-cell:/c%3A/Users/NIC/Desktop/Innovation/Innovation.ipynb#X13sZmlsZQ%3D%3D?line=0'>1</a>\u001b[0m str1 \u001b[39m=\u001b[39m \u001b[39minput\u001b[39m(\u001b[39m\"\u001b[39m\u001b[39mEnter Innovation\u001b[39m\u001b[39m\"\u001b[39m)\n\u001b[1;32m----> <a href='vscode-notebook-cell:/c%3A/Users/NIC/Desktop/Innovation/Innovation.ipynb#X13sZmlsZQ%3D%3D?line=1'>2</a>\u001b[0m data\u001b[39m.\u001b[39mappend(str1)\n",
      "\u001b[1;31mNameError\u001b[0m: name 'data' is not defined"
     ]
    }
   ],
   "source": [
    "str1 = input(\"Enter Innovation\")\n",
    "data.append(str1)"
   ]
  },
  {
   "cell_type": "code",
   "execution_count": 76,
   "id": "87626414",
   "metadata": {},
   "outputs": [
    {
     "data": {
      "text/plain": [
       "5"
      ]
     },
     "execution_count": 76,
     "metadata": {},
     "output_type": "execute_result"
    }
   ],
   "source": [
    "len(data)"
   ]
  },
  {
   "cell_type": "code",
   "execution_count": 77,
   "id": "67cc9c7c",
   "metadata": {},
   "outputs": [],
   "source": [
    "sentence_vec = model.encode(data)"
   ]
  },
  {
   "cell_type": "code",
   "execution_count": 85,
   "id": "788983b4",
   "metadata": {},
   "outputs": [],
   "source": [
    "#Comparing First Innovation Idea with remaining other 10 Innovation Ideas\n",
    "i = len(data)-1\n",
    "compare = cosine_similarity(\n",
    "                        [sentence_vec[i]],#Consider 1st Sentence \n",
    "                        sentence_vec[0:i]) #Compare with remaining sentence"
   ]
  },
  {
   "cell_type": "code",
   "execution_count": 86,
   "id": "38bd8f20",
   "metadata": {},
   "outputs": [
    {
     "data": {
      "text/plain": [
       "4"
      ]
     },
     "execution_count": 86,
     "metadata": {},
     "output_type": "execute_result"
    }
   ],
   "source": [
    "compare.size"
   ]
  },
  {
   "cell_type": "code",
   "execution_count": 87,
   "id": "f2507bb7",
   "metadata": {},
   "outputs": [
    {
     "data": {
      "text/plain": [
       "0.23723644"
      ]
     },
     "execution_count": 87,
     "metadata": {},
     "output_type": "execute_result"
    }
   ],
   "source": [
    "compare[0][3]"
   ]
  },
  {
   "cell_type": "code",
   "execution_count": 38,
   "id": "553ee1e3",
   "metadata": {},
   "outputs": [
    {
     "data": {
      "text/plain": [
       "'1. Can be utilized by food processing industries for shelf life extension of products13102. Increased market for bio-degradable packaging materials with reduced cost'"
      ]
     },
     "execution_count": 38,
     "metadata": {},
     "output_type": "execute_result"
    }
   ],
   "source": [
    "data[255]"
   ]
  },
  {
   "cell_type": "code",
   "execution_count": 88,
   "id": "ca9b1498",
   "metadata": {},
   "outputs": [
    {
     "name": "stdout",
     "output_type": "stream",
     "text": [
      "0.87592137\n"
     ]
    }
   ],
   "source": [
    "li = []\n",
    "for k in range(compare.size-1) :\n",
    "          if((compare[0][k]*100)>85.00):\n",
    "                li.append(k)\n",
    "                print(compare[0][k])"
   ]
  },
  {
   "cell_type": "code",
   "execution_count": 4,
   "id": "d78ecd6a",
   "metadata": {},
   "outputs": [],
   "source": [
    "def dataFetch():\n",
    "    df = pd.read_csv('Approved_Ideas.csv', encoding= 'unicode_escape')\n",
    "    return df"
   ]
  },
  {
   "cell_type": "code",
   "execution_count": 5,
   "id": "960811d0",
   "metadata": {},
   "outputs": [],
   "source": [
    "def modelFetch():\n",
    "    model = SentenceTransformer('paraphrase-albert-small-v2')\n",
    "    return model"
   ]
  },
  {
   "cell_type": "code",
   "execution_count": 36,
   "id": "73a8e6a9",
   "metadata": {},
   "outputs": [],
   "source": [
    "# app = FastAPI()\n",
    "# @app.get(\"/innovationDuplication\")\n",
    "from tokenize import String\n",
    "\n",
    "\n",
    "def root(inputS):\n",
    "        df = dataFetch()\n",
    "        model = modelFetch()\n",
    "        data = ['India is my country','Hello World','Example','who are you']\n",
    "        data.append(inputS)\n",
    "        #data = df['Briefly provide the market data for the potential idea/ innovation'].to_list()\n",
    "        sentence_vec = model.encode(data)\n",
    "        i = len(data)-1\n",
    "        #Comparing First Innovation Idea with remaining other 10 Innovation Ideas\n",
    "        compare = cosine_similarity(\n",
    "                            [sentence_vec[i]],#Consider 1st Sentence \n",
    "                            sentence_vec[0:i]) #Compare with remaining sentence\n",
    "        li = []\n",
    "        for k in range(compare.size-1) :\n",
    "            if((compare[0][k]*100)>85.00):\n",
    "                        #li.append(k)\n",
    "                        outputS = inputS + \" ::::::::is \" + String(compare[0][k]) + \" similar to :::::::: \" + \"\\n\" + data[k]\n",
    "                        li.append(outputS)\n",
    "        if not li :\n",
    "            outputS = \"Congratz!!  New Idea\"\n",
    "            li.append(outputS)    \n",
    "            \n",
    "        return li"
   ]
  },
  {
   "cell_type": "code",
   "execution_count": 38,
   "id": "16c67acd",
   "metadata": {},
   "outputs": [
    {
     "data": {
      "text/plain": [
       "['Congratz!!  New Idea']"
      ]
     },
     "execution_count": 38,
     "metadata": {},
     "output_type": "execute_result"
    }
   ],
   "source": [
    "inputS = input(\"Enter Your Idea \")\n",
    "root(inputS)"
   ]
  },
  {
   "cell_type": "code",
   "execution_count": 33,
   "id": "83220314",
   "metadata": {},
   "outputs": [
    {
     "ename": "TypeError",
     "evalue": "'str' object is not callable",
     "output_type": "error",
     "traceback": [
      "\u001b[1;31m---------------------------------------------------------------------------\u001b[0m",
      "\u001b[1;31mTypeError\u001b[0m                                 Traceback (most recent call last)",
      "\u001b[1;32mc:\\Users\\NIC\\Desktop\\Innovation\\Innovation.ipynb Cell 23\u001b[0m in \u001b[0;36m<cell line: 1>\u001b[1;34m()\u001b[0m\n\u001b[1;32m----> <a href='vscode-notebook-cell:/c%3A/Users/NIC/Desktop/Innovation/Innovation.ipynb#X40sZmlsZQ%3D%3D?line=0'>1</a>\u001b[0m \u001b[39mstr\u001b[39;49m(\u001b[39m3.87\u001b[39;49m)\n",
      "\u001b[1;31mTypeError\u001b[0m: 'str' object is not callable"
     ]
    }
   ],
   "source": [
    "str(3.87)"
   ]
  },
  {
   "cell_type": "code",
   "execution_count": null,
   "id": "aa45c2d5",
   "metadata": {},
   "outputs": [],
   "source": []
  },
  {
   "cell_type": "code",
   "execution_count": 23,
   "id": "58b70043",
   "metadata": {},
   "outputs": [],
   "source": []
  },
  {
   "cell_type": "code",
   "execution_count": null,
   "id": "44fd8e9b",
   "metadata": {},
   "outputs": [],
   "source": []
  },
  {
   "cell_type": "code",
   "execution_count": null,
   "id": "507b6095",
   "metadata": {},
   "outputs": [],
   "source": []
  },
  {
   "cell_type": "code",
   "execution_count": null,
   "id": "1469047d",
   "metadata": {},
   "outputs": [],
   "source": []
  },
  {
   "cell_type": "code",
   "execution_count": 5,
   "id": "8a219a0c",
   "metadata": {},
   "outputs": [
    {
     "name": "stdout",
     "output_type": "stream",
     "text": [
      "Requirement already satisfied: numba in c:\\users\\administrator\\appdata\\local\\programs\\python\\python310\\lib\\site-packages (0.56.2)\n",
      "Requirement already satisfied: llvmlite<0.40,>=0.39.0dev0 in c:\\users\\administrator\\appdata\\local\\programs\\python\\python310\\lib\\site-packages (from numba) (0.39.1)\n",
      "Requirement already satisfied: numpy<1.24,>=1.18 in c:\\users\\administrator\\appdata\\local\\programs\\python\\python310\\lib\\site-packages (from numba) (1.23.3)\n",
      "Requirement already satisfied: setuptools<60 in c:\\users\\administrator\\appdata\\local\\programs\\python\\python310\\lib\\site-packages (from numba) (59.8.0)\n",
      "Requirement already satisfied: numba in c:\\users\\administrator\\appdata\\local\\programs\\python\\python310\\lib\\site-packages (0.56.2)\n",
      "Requirement already satisfied: numpy<1.24,>=1.18 in c:\\users\\administrator\\appdata\\local\\programs\\python\\python310\\lib\\site-packages (from numba) (1.23.3)\n",
      "Requirement already satisfied: setuptools<60 in c:\\users\\administrator\\appdata\\local\\programs\\python\\python310\\lib\\site-packages (from numba) (59.8.0)\n",
      "Requirement already satisfied: llvmlite<0.40,>=0.39.0dev0 in c:\\users\\administrator\\appdata\\local\\programs\\python\\python310\\lib\\site-packages (from numba) (0.39.1)\n",
      "Note: you may need to restart the kernel to use updated packages.\n"
     ]
    }
   ],
   "source": [
    "%pip install numba"
   ]
  },
  {
   "cell_type": "code",
   "execution_count": 5,
   "id": "eacf6a78",
   "metadata": {},
   "outputs": [
    {
     "name": "stderr",
     "output_type": "stream",
     "text": [
      "c:\\Users\\Administrator\\AppData\\Local\\Programs\\Python\\Python310\\lib\\site-packages\\tqdm\\auto.py:22: TqdmWarning: IProgress not found. Please update jupyter and ipywidgets. See https://ipywidgets.readthedocs.io/en/stable/user_install.html\n",
      "  from .autonotebook import tqdm as notebook_tqdm\n"
     ]
    }
   ],
   "source": [
    "\n",
    "import logging\n",
    "import pandas as pd\n",
    "from sklearn.metrics.pairwise import cosine_similarity\n",
    "from sentence_transformers import SentenceTransformer\n",
    "from numba import jit\n",
    "import numpy as np\n",
    "\n",
    "@jit\n",
    "def dataFetch(datFetch:str):\n",
    "    logging.debug(\"Inside dataFetch()\")\n",
    "    df = pd.read_csv(datFetch, encoding= 'unicode_escape')\n",
    "    logging.debug(\"dataFetch Done\")\n",
    "    return df\n",
    "@jit\n",
    "def modelFetch():\n",
    "    logging.debug(\"Inside modelFetch()\")\n",
    "    model = SentenceTransformer('paraphrase-albert-small-v2')\n",
    "    logging.debug(\"Model Fetch Done\")\n",
    "    return model\n",
    "\n",
    "@jit\n",
    "def innovationComp(Brief_Idea_input: str,Concept_and_objective_Input : str,Potential_area_of_applicatioin_Input : str, Sector_Input : str):\n",
    "        status = False\n",
    "    #try:\n",
    "        logging.debug(\"Entry of function\")\n",
    "        global df,model\n",
    "        df = dataFetch('InnovationTrainData.csv')\n",
    "        #df = df.head(10)\n",
    "        #df = df1.head(5)\n",
    "        model = modelFetch()\n",
    "        logging.debug(\"Data and Model Fetched Returned\")\n",
    "        #data = ['India is my country','Hello World','Example','who are you']\n",
    "        Brief_Idea_data = df['Briefly explain newness/uniqueness of the innovation'].to_list()\n",
    "        Brief_Idea_data.append(Brief_Idea_input)\n",
    "\n",
    "        Concept_and_objective_data = df['Concept & Objective'].to_list()\n",
    "        Concept_and_objective_data.append(Concept_and_objective_Input)\n",
    "\n",
    "        Potential_area_of_applicatioin_data = df['Specify the potential areas of application in industry/market in brief'].to_list()\n",
    "        Potential_area_of_applicatioin_data.append(Potential_area_of_applicatioin_Input)\n",
    "\n",
    "        Sector_data = df['Idea Sector'].to_list()\n",
    "        Sector_data.append(Sector_Input)\n",
    "\n",
    "        i = len(Brief_Idea_data)-1\n",
    "\n",
    "        logging.debug(\"All Input Fetched\")\n",
    "\n",
    "        Brief_Idea_vec = model.encode(Brief_Idea_data)\n",
    "        Brief_Idea_compare = cosine_similarity(\n",
    "                            [Brief_Idea_vec[i]],\n",
    "                            Brief_Idea_vec[0:i+1])\n",
    "        logging.debug(\"Breif Idea vector done\")\n",
    "\n",
    "        Concept_and_objective_vec = model.encode(Concept_and_objective_data)\n",
    "        Concept_and_objective_compare = cosine_similarity(\n",
    "                            [Concept_and_objective_vec[i]],\n",
    "                            Concept_and_objective_vec[0:i+1])          \n",
    "        logging.debug(\"Concept and Objective vector done\")\n",
    "\n",
    "        Potential_area_of_applicatioin_vec = model.encode(Potential_area_of_applicatioin_data)\n",
    "        Potential_area_of_applicatioin_compare = cosine_similarity(\n",
    "                            [Potential_area_of_applicatioin_vec[i]],\n",
    "                            Potential_area_of_applicatioin_vec[0:i+1])    \n",
    "        logging.debug(\"Potential Area of Application vector done\")\n",
    "\n",
    "        Sector_vec = model.encode(Sector_data)\n",
    "        Sector_compare = cosine_similarity(\n",
    "                            [Sector_vec[i]],\n",
    "                            Sector_vec[0:i+1])   \n",
    "        logging.debug(\"Sector vector done\")   \n",
    "        li = []\n",
    "        for k in range(Brief_Idea_compare.size-1) :\n",
    "            if((not any(Brief_Idea_input)) or (not any(Concept_and_objective_Input)) or (not any(Potential_area_of_applicatioin_Input)) or (not any(Sector_Input))):\n",
    "                logging.debug(\"Input is Empty\") \n",
    "                raise Exception(\"Input is Empty\")\n",
    "            elif((Brief_Idea_compare[0][k]*100)>85.00 and (Concept_and_objective_compare[0][k]*100)>85.00 and (Potential_area_of_applicatioin_compare[0][k]*100)>85.00 and (Sector_compare[0][k]*100)>85.00):\n",
    "                        #li.append(k)\n",
    "                        #outputS = inputS + \"\\n ::::::::is \" + str(compare[0][k]*100) + \" similar to :::::::: \\n\" + \" \" + data[k]\n",
    "                        \n",
    "                        # outputS = { \"Briefly explain newness/uniqueness of the innovation - Given\": Brief_Idea_input,\n",
    "                        #             #\"Briefly explain newness/uniqueness of the innovation - Old\": Brief_Idea_data[k],\n",
    "                        #             \"Briefly explain newness/uniqueness of the innovation - Comparison\": Brief_Idea_compare[0][k]*100,\n",
    "\n",
    "                        #             \"Concept & Objective - Given \" : Concept_and_objective_Input,\n",
    "                        #             #\"Concept & Objective - Old \" :Concept_and_objective_data[k],\n",
    "                        #             \"Concept & Objective\": Concept_and_objective_compare[0][k]*100,\n",
    "\n",
    "                        #             \"Specify the potential areas of application in industry/market in brief - Given\" : Potential_area_of_applicatioin_Input, \n",
    "                        #             #\"Specify the potential areas of application in industry/market in brief - Old\" : Potential_area_of_applicatioin_data[k],\n",
    "                        #             \"Specify the potential areas of application in industry/market in brief - Comparison\": Potential_area_of_applicatioin_compare[0][k]*100,\n",
    "                                    \n",
    "                        #             \"Idea Sector - Given\" : Sector_Input,\n",
    "                        #             #\"Idea Sector - Old\" : Sector_data[k],\n",
    "                        #             \"Idea Sector - Comparison\" : Sector_compare[0][k]*100,\n",
    "\n",
    "                        #             \"Title_Of_Proposed_Idea\": df['Title of proposed idea/innovation'][k], \n",
    "                        #             \"Reference No\" : df[\"Reference No\"][k],\n",
    "                        #             \"Status \" : \"Duplicate Idea\"\n",
    "                        #         }\n",
    "                        # li.append(outputS)\n",
    "                        status=True\n",
    "                        \n",
    "        # if not li :\n",
    "            \n",
    "        #     outputS = {    \"Briefly explain newness/uniqueness of the innovation - Given\": Brief_Idea_input,\n",
    "        #                             #\"Briefly explain newness/uniqueness of the innovation - Old\": \"NA\",\n",
    "        #                             \"Briefly explain newness/uniqueness of the innovation - Comparison\": \"0%\",\n",
    "\n",
    "        #                             \"Concept & Objective - Given \" : Concept_and_objective_Input,\n",
    "        #                             #\"Concept & Objective - Old \" :\"NA\",\n",
    "        #                             \"Concept & Objective\": \"0%\",\n",
    "\n",
    "        #                             \"Specify the potential areas of application in industry/market in brief - Given\" : Potential_area_of_applicatioin_Input, \n",
    "        #                             #\"Specify the potential areas of application in industry/market in brief - Old\" : \"NA\",\n",
    "        #                             \"Specify the potential areas of application in industry/market in brief - Comparison\": \"0%\",\n",
    "                                    \n",
    "        #                             \"Idea Sector - Given\" : Sector_Input,\n",
    "        #                             #\"Idea Sector - Old\" : \"NA\",\n",
    "        #                             \"Idea Sector - Comparison\" : \"0%\",\n",
    "\n",
    "        #                             \"Title_Of_Proposed_Idea\": \" \", \n",
    "        #                             \"Reference No\" : \" \",\n",
    "        #                             \"Status \" : \"Hurray! New Idea\"\n",
    "        #                 }\n",
    "        #     li.append(outputS)\n",
    "            logging.debug(\"Idea is Unique\") \n",
    "    # except Exception as e:\n",
    "    #     logging.debug(\"Oops Exception Occured\")\n",
    "    #     print(\"Oops!\", e.__class__, \"occurred.\")            \n",
    "    #return li\n",
    "        return status"
   ]
  },
  {
   "cell_type": "code",
   "execution_count": 6,
   "id": "8c79e36b",
   "metadata": {},
   "outputs": [
    {
     "name": "stderr",
     "output_type": "stream",
     "text": [
      "DEBUG:numba.core.byteflow:bytecode dump:\n",
      ">          0\tNOP(arg=None, lineno=13)\n",
      "           2\tLOAD_GLOBAL(arg=0, lineno=13)\n",
      "           4\tLOAD_METHOD(arg=1, lineno=13)\n",
      "           6\tLOAD_CONST(arg=1, lineno=13)\n",
      "           8\tCALL_METHOD(arg=1, lineno=13)\n",
      "          10\tPOP_TOP(arg=None, lineno=13)\n",
      "          12\tLOAD_GLOBAL(arg=2, lineno=14)\n",
      "          14\tLOAD_CONST(arg=2, lineno=14)\n",
      "          16\tCALL_FUNCTION(arg=1, lineno=14)\n",
      "          18\tSTORE_FAST(arg=0, lineno=14)\n",
      "          20\tBUILD_LIST(arg=0, lineno=16)\n",
      "          22\tLOAD_CONST(arg=3, lineno=16)\n",
      "          24\tLIST_EXTEND(arg=1, lineno=16)\n",
      "          26\tSTORE_FAST(arg=1, lineno=16)\n",
      "          28\tBUILD_LIST(arg=0, lineno=17)\n",
      "          30\tSTORE_FAST(arg=2, lineno=17)\n",
      "          32\tLOAD_GLOBAL(arg=3, lineno=19)\n",
      "          34\tLOAD_GLOBAL(arg=4, lineno=19)\n",
      "          36\tLOAD_FAST(arg=0, lineno=19)\n",
      "          38\tCALL_FUNCTION(arg=1, lineno=19)\n",
      "          40\tCALL_FUNCTION(arg=1, lineno=19)\n",
      "          42\tGET_ITER(arg=None, lineno=19)\n",
      ">         44\tFOR_ITER(arg=45, lineno=19)\n",
      "          46\tSTORE_FAST(arg=3, lineno=19)\n",
      "          48\tLOAD_FAST(arg=0, lineno=20)\n",
      "          50\tLOAD_CONST(arg=4, lineno=20)\n",
      "          52\tBINARY_SUBSCR(arg=None, lineno=20)\n",
      "          54\tLOAD_FAST(arg=3, lineno=20)\n",
      "          56\tBINARY_SUBSCR(arg=None, lineno=20)\n",
      "          58\tSTORE_FAST(arg=4, lineno=20)\n",
      "          60\tLOAD_FAST(arg=0, lineno=21)\n",
      "          62\tLOAD_CONST(arg=5, lineno=21)\n",
      "          64\tBINARY_SUBSCR(arg=None, lineno=21)\n",
      "          66\tLOAD_FAST(arg=3, lineno=21)\n",
      "          68\tBINARY_SUBSCR(arg=None, lineno=21)\n",
      "          70\tSTORE_FAST(arg=5, lineno=21)\n",
      "          72\tLOAD_FAST(arg=0, lineno=22)\n",
      "          74\tLOAD_CONST(arg=6, lineno=22)\n",
      "          76\tBINARY_SUBSCR(arg=None, lineno=22)\n",
      "          78\tLOAD_FAST(arg=3, lineno=22)\n",
      "          80\tBINARY_SUBSCR(arg=None, lineno=22)\n",
      "          82\tSTORE_FAST(arg=6, lineno=22)\n",
      "          84\tLOAD_FAST(arg=0, lineno=23)\n",
      "          86\tLOAD_CONST(arg=7, lineno=23)\n",
      "          88\tBINARY_SUBSCR(arg=None, lineno=23)\n",
      "          90\tLOAD_FAST(arg=3, lineno=23)\n",
      "          92\tBINARY_SUBSCR(arg=None, lineno=23)\n",
      "          94\tSTORE_FAST(arg=7, lineno=23)\n",
      "          96\tLOAD_GLOBAL(arg=5, lineno=24)\n",
      "          98\tLOAD_FAST(arg=4, lineno=24)\n",
      "         100\tLOAD_FAST(arg=5, lineno=24)\n",
      "         102\tLOAD_FAST(arg=6, lineno=24)\n",
      "         104\tLOAD_FAST(arg=7, lineno=24)\n",
      "         106\tCALL_FUNCTION(arg=4, lineno=24)\n",
      "         108\tSTORE_FAST(arg=8, lineno=24)\n",
      "         110\tLOAD_FAST(arg=4, lineno=25)\n",
      "         112\tLOAD_FAST(arg=5, lineno=25)\n",
      "         114\tLOAD_FAST(arg=6, lineno=25)\n",
      "         116\tLOAD_FAST(arg=7, lineno=25)\n",
      "         118\tLOAD_FAST(arg=8, lineno=25)\n",
      "         120\tBUILD_LIST(arg=5, lineno=25)\n",
      "         122\tSTORE_FAST(arg=9, lineno=25)\n",
      "         124\tLOAD_FAST(arg=2, lineno=26)\n",
      "         126\tLOAD_METHOD(arg=6, lineno=26)\n",
      "         128\tLOAD_FAST(arg=9, lineno=26)\n",
      "         130\tCALL_METHOD(arg=1, lineno=26)\n",
      "         132\tPOP_TOP(arg=None, lineno=26)\n",
      "         134\tJUMP_ABSOLUTE(arg=23, lineno=26)\n",
      ">        136\tLOAD_GLOBAL(arg=0, lineno=27)\n",
      "         138\tLOAD_METHOD(arg=1, lineno=27)\n",
      "         140\tLOAD_CONST(arg=8, lineno=27)\n",
      "         142\tCALL_METHOD(arg=1, lineno=27)\n",
      "         144\tPOP_TOP(arg=None, lineno=27)\n",
      "         146\tLOAD_CONST(arg=9, lineno=28)\n",
      "         148\tSTORE_FAST(arg=10, lineno=28)\n",
      "         150\tLOAD_GLOBAL(arg=7, lineno=29)\n",
      "         152\tLOAD_FAST(arg=10, lineno=29)\n",
      "         154\tLOAD_CONST(arg=10, lineno=29)\n",
      "         156\tCALL_FUNCTION(arg=2, lineno=29)\n",
      "         158\tSETUP_WITH(arg=23, lineno=29)\n",
      "         160\tSTORE_FAST(arg=11, lineno=29)\n",
      "         162\tLOAD_GLOBAL(arg=8, lineno=30)\n",
      "         164\tLOAD_METHOD(arg=9, lineno=30)\n",
      "         166\tLOAD_FAST(arg=11, lineno=30)\n",
      "         168\tCALL_METHOD(arg=1, lineno=30)\n",
      "         170\tSTORE_FAST(arg=12, lineno=30)\n",
      "         172\tLOAD_FAST(arg=12, lineno=31)\n",
      "         174\tLOAD_METHOD(arg=10, lineno=31)\n",
      "         176\tLOAD_FAST(arg=1, lineno=31)\n",
      "         178\tCALL_METHOD(arg=1, lineno=31)\n",
      "         180\tPOP_TOP(arg=None, lineno=31)\n",
      "         182\tLOAD_FAST(arg=12, lineno=32)\n",
      "         184\tLOAD_METHOD(arg=11, lineno=32)\n",
      "         186\tLOAD_FAST(arg=2, lineno=32)\n",
      "         188\tCALL_METHOD(arg=1, lineno=32)\n",
      "         190\tPOP_TOP(arg=None, lineno=32)\n",
      "         192\tPOP_BLOCK(arg=None, lineno=32)\n",
      "         194\tLOAD_CONST(arg=0, lineno=29)\n",
      "         196\tDUP_TOP(arg=None, lineno=29)\n",
      "         198\tDUP_TOP(arg=None, lineno=29)\n",
      "         200\tCALL_FUNCTION(arg=3, lineno=29)\n",
      "         202\tPOP_TOP(arg=None, lineno=29)\n",
      "         204\tJUMP_FORWARD(arg=8, lineno=29)\n",
      ">        206\tWITH_EXCEPT_START(arg=None, lineno=29)\n",
      "         208\tPOP_JUMP_IF_TRUE(arg=107, lineno=29)\n",
      "         210\tRERAISE(arg=1, lineno=29)\n",
      ">        212\tPOP_TOP(arg=None, lineno=29)\n",
      "         214\tPOP_TOP(arg=None, lineno=29)\n",
      "         216\tPOP_TOP(arg=None, lineno=29)\n",
      "         218\tPOP_EXCEPT(arg=None, lineno=29)\n",
      "         220\tPOP_TOP(arg=None, lineno=29)\n",
      ">        222\tLOAD_GLOBAL(arg=0, lineno=33)\n",
      "         224\tLOAD_METHOD(arg=1, lineno=33)\n",
      "         226\tLOAD_CONST(arg=11, lineno=33)\n",
      "         228\tCALL_METHOD(arg=1, lineno=33)\n",
      "         230\tPOP_TOP(arg=None, lineno=33)\n",
      "         232\tLOAD_CONST(arg=0, lineno=33)\n",
      "         234\tRETURN_VALUE(arg=None, lineno=33)\n",
      "DEBUG:numba.core.byteflow:pending: deque([State(pc_initial=0 nstack_initial=0)])\n",
      "DEBUG:numba.core.byteflow:stack: []\n",
      "DEBUG:numba.core.byteflow:dispatch pc=0, inst=NOP(arg=None, lineno=13)\n",
      "DEBUG:numba.core.byteflow:stack []\n",
      "DEBUG:numba.core.byteflow:dispatch pc=2, inst=LOAD_GLOBAL(arg=0, lineno=13)\n",
      "DEBUG:numba.core.byteflow:stack []\n",
      "DEBUG:numba.core.byteflow:dispatch pc=4, inst=LOAD_METHOD(arg=1, lineno=13)\n",
      "DEBUG:numba.core.byteflow:stack ['$2load_global.0']\n",
      "DEBUG:numba.core.byteflow:dispatch pc=6, inst=LOAD_CONST(arg=1, lineno=13)\n",
      "DEBUG:numba.core.byteflow:stack ['$4load_method.1']\n",
      "DEBUG:numba.core.byteflow:dispatch pc=8, inst=CALL_METHOD(arg=1, lineno=13)\n",
      "DEBUG:numba.core.byteflow:stack ['$4load_method.1', '$const6.2']\n",
      "DEBUG:numba.core.byteflow:dispatch pc=10, inst=POP_TOP(arg=None, lineno=13)\n",
      "DEBUG:numba.core.byteflow:stack ['$8call_method.3']\n",
      "DEBUG:numba.core.byteflow:dispatch pc=12, inst=LOAD_GLOBAL(arg=2, lineno=14)\n",
      "DEBUG:numba.core.byteflow:stack []\n",
      "DEBUG:numba.core.byteflow:dispatch pc=14, inst=LOAD_CONST(arg=2, lineno=14)\n",
      "DEBUG:numba.core.byteflow:stack ['$12load_global.4']\n",
      "DEBUG:numba.core.byteflow:dispatch pc=16, inst=CALL_FUNCTION(arg=1, lineno=14)\n",
      "DEBUG:numba.core.byteflow:stack ['$12load_global.4', '$const14.5']\n",
      "DEBUG:numba.core.byteflow:dispatch pc=18, inst=STORE_FAST(arg=0, lineno=14)\n",
      "DEBUG:numba.core.byteflow:stack ['$16call_function.6']\n",
      "DEBUG:numba.core.byteflow:dispatch pc=20, inst=BUILD_LIST(arg=0, lineno=16)\n",
      "DEBUG:numba.core.byteflow:stack []\n",
      "DEBUG:numba.core.byteflow:dispatch pc=22, inst=LOAD_CONST(arg=3, lineno=16)\n",
      "DEBUG:numba.core.byteflow:stack ['$20build_list.7']\n",
      "DEBUG:numba.core.byteflow:dispatch pc=24, inst=LIST_EXTEND(arg=1, lineno=16)\n",
      "DEBUG:numba.core.byteflow:stack ['$20build_list.7', '$const22.8']\n",
      "DEBUG:numba.core.byteflow:dispatch pc=26, inst=STORE_FAST(arg=1, lineno=16)\n",
      "DEBUG:numba.core.byteflow:stack ['$20build_list.7']\n",
      "DEBUG:numba.core.byteflow:dispatch pc=28, inst=BUILD_LIST(arg=0, lineno=17)\n",
      "DEBUG:numba.core.byteflow:stack []\n",
      "DEBUG:numba.core.byteflow:dispatch pc=30, inst=STORE_FAST(arg=2, lineno=17)\n",
      "DEBUG:numba.core.byteflow:stack ['$28build_list.11']\n",
      "DEBUG:numba.core.byteflow:dispatch pc=32, inst=LOAD_GLOBAL(arg=3, lineno=19)\n",
      "DEBUG:numba.core.byteflow:stack []\n",
      "DEBUG:numba.core.byteflow:dispatch pc=34, inst=LOAD_GLOBAL(arg=4, lineno=19)\n",
      "DEBUG:numba.core.byteflow:stack ['$32load_global.12']\n",
      "DEBUG:numba.core.byteflow:dispatch pc=36, inst=LOAD_FAST(arg=0, lineno=19)\n",
      "DEBUG:numba.core.byteflow:stack ['$32load_global.12', '$34load_global.13']\n",
      "DEBUG:numba.core.byteflow:dispatch pc=38, inst=CALL_FUNCTION(arg=1, lineno=19)\n",
      "DEBUG:numba.core.byteflow:stack ['$32load_global.12', '$34load_global.13', '$df36.14']\n",
      "DEBUG:numba.core.byteflow:dispatch pc=40, inst=CALL_FUNCTION(arg=1, lineno=19)\n",
      "DEBUG:numba.core.byteflow:stack ['$32load_global.12', '$38call_function.15']\n",
      "DEBUG:numba.core.byteflow:dispatch pc=42, inst=GET_ITER(arg=None, lineno=19)\n",
      "DEBUG:numba.core.byteflow:stack ['$40call_function.16']\n",
      "DEBUG:numba.core.byteflow:end state. edges=[Edge(pc=44, stack=('$42get_iter.17',), blockstack=(), npush=0)]\n",
      "DEBUG:numba.core.byteflow:pending: deque([State(pc_initial=44 nstack_initial=1)])\n",
      "DEBUG:numba.core.byteflow:stack: ['$phi44.0']\n",
      "DEBUG:numba.core.byteflow:dispatch pc=44, inst=FOR_ITER(arg=45, lineno=19)\n",
      "DEBUG:numba.core.byteflow:stack ['$phi44.0']\n",
      "DEBUG:numba.core.byteflow:end state. edges=[Edge(pc=136, stack=(), blockstack=(), npush=0), Edge(pc=46, stack=('$phi44.0', '$44for_iter.2'), blockstack=(), npush=0)]\n",
      "DEBUG:numba.core.byteflow:pending: deque([State(pc_initial=136 nstack_initial=0), State(pc_initial=46 nstack_initial=2)])\n",
      "DEBUG:numba.core.byteflow:stack: []\n",
      "DEBUG:numba.core.byteflow:dispatch pc=136, inst=LOAD_GLOBAL(arg=0, lineno=27)\n",
      "DEBUG:numba.core.byteflow:stack []\n",
      "DEBUG:numba.core.byteflow:dispatch pc=138, inst=LOAD_METHOD(arg=1, lineno=27)\n",
      "DEBUG:numba.core.byteflow:stack ['$136load_global.0']\n",
      "DEBUG:numba.core.byteflow:dispatch pc=140, inst=LOAD_CONST(arg=8, lineno=27)\n",
      "DEBUG:numba.core.byteflow:stack ['$138load_method.1']\n",
      "DEBUG:numba.core.byteflow:dispatch pc=142, inst=CALL_METHOD(arg=1, lineno=27)\n",
      "DEBUG:numba.core.byteflow:stack ['$138load_method.1', '$const140.2']\n",
      "DEBUG:numba.core.byteflow:dispatch pc=144, inst=POP_TOP(arg=None, lineno=27)\n",
      "DEBUG:numba.core.byteflow:stack ['$142call_method.3']\n",
      "DEBUG:numba.core.byteflow:dispatch pc=146, inst=LOAD_CONST(arg=9, lineno=28)\n",
      "DEBUG:numba.core.byteflow:stack []\n",
      "DEBUG:numba.core.byteflow:dispatch pc=148, inst=STORE_FAST(arg=10, lineno=28)\n",
      "DEBUG:numba.core.byteflow:stack ['$const146.4']\n",
      "DEBUG:numba.core.byteflow:dispatch pc=150, inst=LOAD_GLOBAL(arg=7, lineno=29)\n",
      "DEBUG:numba.core.byteflow:stack []\n",
      "DEBUG:numba.core.byteflow:dispatch pc=152, inst=LOAD_FAST(arg=10, lineno=29)\n",
      "DEBUG:numba.core.byteflow:stack ['$150load_global.5']\n",
      "DEBUG:numba.core.byteflow:dispatch pc=154, inst=LOAD_CONST(arg=10, lineno=29)\n",
      "DEBUG:numba.core.byteflow:stack ['$150load_global.5', '$filename152.6']\n",
      "DEBUG:numba.core.byteflow:dispatch pc=156, inst=CALL_FUNCTION(arg=2, lineno=29)\n",
      "DEBUG:numba.core.byteflow:stack ['$150load_global.5', '$filename152.6', '$const154.7']\n"
     ]
    },
    {
     "ename": "UnsupportedError",
     "evalue": "Failed in nopython mode pipeline (step: analyzing bytecode)\n\u001b[1mThe 'with (context manager) as (variable):' construct is not supported.\u001b[0m",
     "output_type": "error",
     "traceback": [
      "\u001b[1;31m---------------------------------------------------------------------------\u001b[0m",
      "\u001b[1;31mUnsupportedError\u001b[0m                          Traceback (most recent call last)",
      "Cell \u001b[1;32mIn [6], line 42\u001b[0m\n\u001b[0;32m     33\u001b[0m     logging\u001b[38;5;241m.\u001b[39mdebug(\u001b[38;5;124m\"\u001b[39m\u001b[38;5;124mReturned from root()\u001b[39m\u001b[38;5;124m\"\u001b[39m)\n\u001b[0;32m     34\u001b[0m     \u001b[38;5;66;03m#numba.cuda.profile_stop()\u001b[39;00m\n\u001b[0;32m     35\u001b[0m     \u001b[38;5;66;03m#return li  \u001b[39;00m\n\u001b[0;32m     36\u001b[0m \u001b[38;5;66;03m# Brief_Idea_input = input(\"Enter Your Brief_Idea_input\")\u001b[39;00m\n\u001b[1;32m   (...)\u001b[0m\n\u001b[0;32m     39\u001b[0m \u001b[38;5;66;03m# Sector_Input = input(\"Enter Your Sector_Input\")\u001b[39;00m\n\u001b[0;32m     40\u001b[0m \u001b[38;5;66;03m# print(root(Brief_Idea_input,Concept_and_objective_Input,Potential_area_of_applicatioin_Input,Sector_Input))\u001b[39;00m\n\u001b[1;32m---> 42\u001b[0m root()\n",
      "File \u001b[1;32mc:\\Users\\Administrator\\AppData\\Local\\Programs\\Python\\Python310\\lib\\site-packages\\numba\\core\\dispatcher.py:471\u001b[0m, in \u001b[0;36m_DispatcherBase._compile_for_args\u001b[1;34m(self, *args, **kws)\u001b[0m\n\u001b[0;32m    468\u001b[0m     error_rewrite(e, \u001b[39m'\u001b[39m\u001b[39mtyping\u001b[39m\u001b[39m'\u001b[39m)\n\u001b[0;32m    469\u001b[0m \u001b[39mexcept\u001b[39;00m errors\u001b[39m.\u001b[39mUnsupportedError \u001b[39mas\u001b[39;00m e:\n\u001b[0;32m    470\u001b[0m     \u001b[39m# Something unsupported is present in the user code, add help info\u001b[39;00m\n\u001b[1;32m--> 471\u001b[0m     error_rewrite(e, \u001b[39m'\u001b[39;49m\u001b[39munsupported_error\u001b[39;49m\u001b[39m'\u001b[39;49m)\n\u001b[0;32m    472\u001b[0m \u001b[39mexcept\u001b[39;00m (errors\u001b[39m.\u001b[39mNotDefinedError, errors\u001b[39m.\u001b[39mRedefinedError,\n\u001b[0;32m    473\u001b[0m         errors\u001b[39m.\u001b[39mVerificationError) \u001b[39mas\u001b[39;00m e:\n\u001b[0;32m    474\u001b[0m     \u001b[39m# These errors are probably from an issue with either the code\u001b[39;00m\n\u001b[0;32m    475\u001b[0m     \u001b[39m# supplied being syntactically or otherwise invalid\u001b[39;00m\n\u001b[0;32m    476\u001b[0m     error_rewrite(e, \u001b[39m'\u001b[39m\u001b[39minterpreter\u001b[39m\u001b[39m'\u001b[39m)\n",
      "File \u001b[1;32mc:\\Users\\Administrator\\AppData\\Local\\Programs\\Python\\Python310\\lib\\site-packages\\numba\\core\\dispatcher.py:409\u001b[0m, in \u001b[0;36m_DispatcherBase._compile_for_args.<locals>.error_rewrite\u001b[1;34m(e, issue_type)\u001b[0m\n\u001b[0;32m    407\u001b[0m     \u001b[39mraise\u001b[39;00m e\n\u001b[0;32m    408\u001b[0m \u001b[39melse\u001b[39;00m:\n\u001b[1;32m--> 409\u001b[0m     \u001b[39mraise\u001b[39;00m e\u001b[39m.\u001b[39mwith_traceback(\u001b[39mNone\u001b[39;00m)\n",
      "\u001b[1;31mUnsupportedError\u001b[0m: Failed in nopython mode pipeline (step: analyzing bytecode)\n\u001b[1mThe 'with (context manager) as (variable):' construct is not supported.\u001b[0m"
     ]
    }
   ],
   "source": [
    "from fastapi import FastAPI\n",
    "import logging\n",
    "#import service as s\n",
    "import csv\n",
    "import numpy as np\n",
    "from numba import jit\n",
    "logging.basicConfig(level=logging.DEBUG)\n",
    "app = FastAPI()\n",
    "@app.post(\"/innovationDuplication\")\n",
    "#def root(Brief_Idea_input: str,Concept_and_objective_Input : str,Potential_area_of_applicatioin_Input : str, Sector_Input : str):\n",
    "@jit(nopython=True)\n",
    "def root():\n",
    "    logging.debug(\"Inside root()\")\n",
    "    df = dataFetch('InnovationTestData.csv')\n",
    "    #df = df.head(10)\n",
    "    fields = ['Briefly explain newness/uniqueness of the innovation', 'Concept & Objective', 'Specify the potential areas of application in industry/market in brief', 'Idea Sector','Status']\n",
    "    rows= []\n",
    "    #logging.debug(\"Input Size \" + len(df))\n",
    "    for i in range(len(df)):\n",
    "        Brief_Idea_input = df['Briefly explain newness/uniqueness of the innovation'][i]\n",
    "        Concept_and_objective_Input = df['Concept & Objective'][i]\n",
    "        Potential_area_of_applicatioin_Input = df['Specify the potential areas of application in industry/market in brief'][i]\n",
    "        Sector_Input = df['Idea Sector'][i]\n",
    "        status = innovationComp(Brief_Idea_input,Concept_and_objective_Input,Potential_area_of_applicatioin_Input,Sector_Input)\n",
    "        rows1 = [Brief_Idea_input,Concept_and_objective_Input,Potential_area_of_applicatioin_Input,Sector_Input,status]\n",
    "        rows.append(rows1)\n",
    "    logging.debug(\"File Initiated to Prepare\")\n",
    "    filename = \"Result.csv\"\n",
    "    with open(filename, 'w') as csvfile: \n",
    "        csvwriter = csv.writer(csvfile) \n",
    "        csvwriter.writerow(fields) \n",
    "        csvwriter.writerows(rows)\n",
    "    logging.debug(\"Returned from root()\")\n",
    "    #numba.cuda.profile_stop()\n",
    "    #return li  \n",
    "# Brief_Idea_input = input(\"Enter Your Brief_Idea_input\")\n",
    "# Concept_and_objective_Input = input(\"Enter Your Concept_and_objective_Input\")\n",
    "# Potential_area_of_applicatioin_Input = input(\"Enter Your Potential_area_of_applicatioin_Input\")\n",
    "# Sector_Input = input(\"Enter Your Sector_Input\")\n",
    "# print(root(Brief_Idea_input,Concept_and_objective_Input,Potential_area_of_applicatioin_Input,Sector_Input))\n",
    "\n",
    "root()\n"
   ]
  },
  {
   "cell_type": "code",
   "execution_count": null,
   "id": "5ac8b31d",
   "metadata": {},
   "outputs": [],
   "source": []
  }
 ],
 "metadata": {
  "kernelspec": {
   "display_name": "Python 3.10.7 64-bit",
   "language": "python",
   "name": "python3"
  },
  "language_info": {
   "codemirror_mode": {
    "name": "ipython",
    "version": 3
   },
   "file_extension": ".py",
   "mimetype": "text/x-python",
   "name": "python",
   "nbconvert_exporter": "python",
   "pygments_lexer": "ipython3",
   "version": "3.10.7"
  },
  "vscode": {
   "interpreter": {
    "hash": "3196968d684371006099b3d55edeef8ed90365227a30deaef86e5d4aa8519be0"
   }
  }
 },
 "nbformat": 4,
 "nbformat_minor": 5
}
